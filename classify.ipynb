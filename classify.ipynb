{
  "nbformat": 4,
  "nbformat_minor": 0,
  "metadata": {
    "colab": {
      "name": "classify.ipynb",
      "provenance": [],
      "collapsed_sections": [],
      "mount_file_id": "1CJLJhY2_7qG9DIYvUS-EtH7bCKjq2_PN",
      "authorship_tag": "ABX9TyNVQjToM2vhBpR9bRMBgHv+",
      "include_colab_link": true
    },
    "kernelspec": {
      "name": "python3",
      "display_name": "Python 3"
    },
    "language_info": {
      "name": "python"
    },
    "accelerator": "GPU"
  },
  "cells": [
    {
      "cell_type": "markdown",
      "metadata": {
        "id": "view-in-github",
        "colab_type": "text"
      },
      "source": [
        "<a href=\"https://colab.research.google.com/github/friedrichor/Diabetic-Retinopathy-Detection/blob/main/classify.ipynb\" target=\"_parent\"><img src=\"https://colab.research.google.com/assets/colab-badge.svg\" alt=\"Open In Colab\"/></a>"
      ]
    },
    {
      "cell_type": "code",
      "execution_count": null,
      "metadata": {
        "id": "La-UHPu5fvDL",
        "colab": {
          "base_uri": "https://localhost:8080/"
        },
        "outputId": "53074dac-f029-42d3-da07-87f093592f3f"
      },
      "outputs": [
        {
          "output_type": "stream",
          "name": "stdout",
          "text": [
            "Cloning into 'Diabetic-Retinopathy-Detection'...\n",
            "remote: Enumerating objects: 4821, done.\u001b[K\n",
            "remote: Counting objects: 100% (14/14), done.\u001b[K\n",
            "remote: Compressing objects: 100% (11/11), done.\u001b[K\n",
            "remote: Total 4821 (delta 0), reused 14 (delta 0), pack-reused 4807\u001b[K\n",
            "Receiving objects: 100% (4821/4821), 1.25 GiB | 50.06 MiB/s, done.\n",
            "Resolving deltas: 100% (3/3), done.\n",
            "Checking out files: 100% (7765/7765), done.\n"
          ]
        }
      ],
      "source": [
        "!git clone https://github.com/friedrichor/Diabetic-Retinopathy-Detection"
      ]
    },
    {
      "cell_type": "code",
      "source": [
        "! python Diabetic-Retinopathy-Detection/train.py"
      ],
      "metadata": {
        "colab": {
          "base_uri": "https://localhost:8080/"
        },
        "id": "DaGu4khsr03O",
        "outputId": "d531e2ca-7729-4eba-b973-c60353fd9299"
      },
      "execution_count": null,
      "outputs": [
        {
          "output_type": "stream",
          "name": "stdout",
          "text": [
            "device = cuda:0\n",
            "4755 images were found in the dataset.\n",
            "3804 images for training.\n",
            "951 images for validation.\n",
            "Using 2 dataloader workers every process\n",
            "_IncompatibleKeys(missing_keys=['head.weight', 'head.bias'], unexpected_keys=[])\n",
            "training head.weight\n",
            "training head.bias\n",
            "[train epoch 0] loss: 0.662, acc: 0.593: 100% 238/238 [00:45<00:00,  5.29it/s]\n",
            "[valid epoch 0] loss: 0.646, acc: 0.601: 100% 60/60 [00:12<00:00,  4.93it/s]\n",
            "[train epoch 1] loss: 0.640, acc: 0.632: 100% 238/238 [00:45<00:00,  5.19it/s]\n",
            "[valid epoch 1] loss: 0.626, acc: 0.636: 100% 60/60 [00:12<00:00,  4.82it/s]\n",
            "[train epoch 2] loss: 0.621, acc: 0.658: 100% 238/238 [00:47<00:00,  4.98it/s]\n",
            "[valid epoch 2] loss: 0.611, acc: 0.676: 100% 60/60 [00:12<00:00,  4.81it/s]\n",
            "[train epoch 3] loss: 0.610, acc: 0.679: 100% 238/238 [00:47<00:00,  5.01it/s]\n",
            "[valid epoch 3] loss: 0.599, acc: 0.707: 100% 60/60 [00:12<00:00,  4.78it/s]\n",
            "[train epoch 4] loss: 0.606, acc: 0.684: 100% 238/238 [00:47<00:00,  5.04it/s]\n",
            "[valid epoch 4] loss: 0.591, acc: 0.719: 100% 60/60 [00:12<00:00,  4.78it/s]\n",
            "[train epoch 5] loss: 0.594, acc: 0.697: 100% 238/238 [00:47<00:00,  5.02it/s]\n",
            "[valid epoch 5] loss: 0.583, acc: 0.718: 100% 60/60 [00:12<00:00,  4.79it/s]\n",
            "[train epoch 6] loss: 0.587, acc: 0.706: 100% 238/238 [00:47<00:00,  5.02it/s]\n",
            "[valid epoch 6] loss: 0.576, acc: 0.736: 100% 60/60 [00:12<00:00,  4.85it/s]\n",
            "[train epoch 7] loss: 0.584, acc: 0.706: 100% 238/238 [00:47<00:00,  5.02it/s]\n",
            "[valid epoch 7] loss: 0.571, acc: 0.728: 100% 60/60 [00:12<00:00,  4.80it/s]\n",
            "[train epoch 8] loss: 0.576, acc: 0.721: 100% 238/238 [00:47<00:00,  5.01it/s]\n",
            "[valid epoch 8] loss: 0.571, acc: 0.744: 100% 60/60 [00:12<00:00,  4.79it/s]\n",
            "[train epoch 9] loss: 0.571, acc: 0.723: 100% 238/238 [00:47<00:00,  5.02it/s]\n",
            "[valid epoch 9] loss: 0.562, acc: 0.746: 100% 60/60 [00:12<00:00,  4.82it/s]\n",
            "[train epoch 10] loss: 0.573, acc: 0.720: 100% 238/238 [00:47<00:00,  5.02it/s]\n",
            "[valid epoch 10] loss: 0.558, acc: 0.748: 100% 60/60 [00:12<00:00,  4.82it/s]\n",
            "[train epoch 11] loss: 0.561, acc: 0.734: 100% 238/238 [00:47<00:00,  5.02it/s]\n",
            "[valid epoch 11] loss: 0.553, acc: 0.748: 100% 60/60 [00:12<00:00,  4.80it/s]\n",
            "[train epoch 12] loss: 0.557, acc: 0.727: 100% 238/238 [00:47<00:00,  5.03it/s]\n",
            "[valid epoch 12] loss: 0.550, acc: 0.755: 100% 60/60 [00:12<00:00,  4.76it/s]\n",
            "[train epoch 13] loss: 0.559, acc: 0.720:  71% 168/238 [00:33<00:13,  5.00it/s]"
          ]
        }
      ]
    },
    {
      "cell_type": "code",
      "source": [
        "!git clone https://github.com/rwightman/pytorch-image-models/releases/download/v0.1-vitjx/jx_vit_base_patch32_224_in21k-8db57226.pth"
      ],
      "metadata": {
        "colab": {
          "base_uri": "https://localhost:8080/"
        },
        "id": "0NJ9-uWwskO8",
        "outputId": "9134dc6e-1903-4aa6-b253-28ec61e8bf02"
      },
      "execution_count": null,
      "outputs": [
        {
          "output_type": "stream",
          "name": "stdout",
          "text": [
            "Cloning into 'jx_vit_base_patch32_224_in21k-8db57226.pth'...\n",
            "remote: Not Found\n",
            "fatal: repository 'https://github.com/rwightman/pytorch-image-models/releases/download/v0.1-vitjx/jx_vit_base_patch32_224_in21k-8db57226.pth/' not found\n"
          ]
        }
      ]
    },
    {
      "cell_type": "code",
      "source": [
        ""
      ],
      "metadata": {
        "id": "TlNta81uzJ9i"
      },
      "execution_count": null,
      "outputs": []
    }
  ]
}